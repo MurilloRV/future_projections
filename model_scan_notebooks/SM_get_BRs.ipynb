{
 "cells": [
  {
   "cell_type": "markdown",
   "metadata": {},
   "source": [
    "# Example for running HiggsTools for a SM Higgs"
   ]
  },
  {
   "cell_type": "code",
   "execution_count": null,
   "metadata": {},
   "outputs": [],
   "source": [
    "import Higgs.predictions as HP\n",
    "import Higgs.bounds as HB\n",
    "import Higgs.signals as HS\n",
    "\n",
    "pred = HP.Predictions() # create the model predictions\n",
    "# bounds = HB.Bounds('/Path/To/HBDataSet') # load HB dataset\n",
    "# signals = HS.Signals('/Path/To/HSDataSet') # load HS dataset\n",
    "\n",
    "import os\n",
    "os.chdir('/cephfs/user/mrebuzzi/phd/HiggsTools/future_projections/')\n",
    "# os.getcwd()"
   ]
  },
  {
   "cell_type": "markdown",
   "metadata": {},
   "source": [
    "### HiggsPredictions input"
   ]
  },
  {
   "cell_type": "code",
   "execution_count": 24,
   "metadata": {},
   "outputs": [],
   "source": [
    "# add a SM-like particle\n",
    "h = pred.addParticle(HP.NeutralScalar(\"h\", \"even\"))\n",
    "h.setMass(125.20)  # PDG, 12.2024\n",
    "\n",
    "# give particle SM-like couplings\n",
    "HP.effectiveCouplingInput(h, HP.smLikeEffCouplings, reference=\"SMHiggsEW\")"
   ]
  },
  {
   "cell_type": "markdown",
   "metadata": {},
   "source": [
    "### Calculate Branching Ratios"
   ]
  },
  {
   "cell_type": "code",
   "execution_count": 25,
   "metadata": {},
   "outputs": [
    {
     "name": "stdout",
     "output_type": "stream",
     "text": [
      "H->gg: 0.08171987918280119\n",
      "H->WW: 0.21699968783000312\n",
      "H->ZZ: 0.0266699597333004\n",
      "H->Zgam: 0.0015499999844999998\n",
      "H->gamgam: 0.0022699999773\n",
      "H->mumu: 0.00021649999783500005\n",
      "H->tautau: 0.0623999093760009\n",
      "H->cc: 0.028759959712400404\n",
      "H->bb: 0.5791991542080085\n",
      "H->ss: 0.00021494999785050001\n",
      "H->dd: 0.0\n",
      "H->uu: 0.0\n",
      "H->ee: 0.0\n",
      "\n",
      "Total rate: 1.0\n"
     ]
    }
   ],
   "source": [
    "decay_channels = [\"gg\", \"WW\", \"ZZ\", \"Zgam\", \"gamgam\", \"mumu\", \"tautau\", \"cc\", \"bb\", \"ss\", \"dd\", \"uu\", \"ee\"]\n",
    "total_rate = 0\n",
    "for channel in decay_channels:\n",
    "    print(f\"H->{channel}: {h.br(channel)}\")\n",
    "    total_rate = total_rate + h.br(channel)\n",
    "\n",
    "print(f\"\\nTotal rate: {total_rate}\")"
   ]
  },
  {
   "cell_type": "markdown",
   "metadata": {},
   "source": [
    "### Add a small BSM lepton-flavor violating decay\n",
    "\n",
    "There are very strong limits on this kind of process in HiggsBounds."
   ]
  },
  {
   "cell_type": "code",
   "execution_count": null,
   "metadata": {},
   "outputs": [],
   "source": [
    "# set h -> emu decay width\n",
    "h.setDecayWidth(\"emu\", 1e-6)\n",
    "\n",
    "# evaluate HiggsBounds\n",
    "hbresult = bounds(pred)\n",
    "print(hbresult)\n",
    "\n",
    "# evaluate HiggsSignals\n",
    "chisq = signals(pred)\n",
    "\n",
    "print(f\"HiggsSignals chisq: {chisq} compared to a SM chisq of {chisqSM}\")\n",
    "print(f\"number of observables used by HiggsSignals: {signals.observableCount()}\")"
   ]
  }
 ],
 "metadata": {
  "kernelspec": {
   "display_name": "higgs_venv",
   "language": "python",
   "name": "python3"
  },
  "language_info": {
   "codemirror_mode": {
    "name": "ipython",
    "version": 3
   },
   "file_extension": ".py",
   "mimetype": "text/x-python",
   "name": "python",
   "nbconvert_exporter": "python",
   "pygments_lexer": "ipython3",
   "version": "3.12.5"
  }
 },
 "nbformat": 4,
 "nbformat_minor": 4
}
